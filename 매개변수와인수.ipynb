{
 "cells": [
  {
   "cell_type": "markdown",
   "id": "cd525ac1-4a98-4fe4-b512-a2c87eae1bb0",
   "metadata": {
    "deletable": false,
    "editable": false
   },
   "source": [
    "## **매개변수와 인수**"
   ]
  },
  {
   "cell_type": "markdown",
   "id": "8bc59091-ac37-4247-8c09-02d9f5783b20",
   "metadata": {
    "deletable": false,
    "editable": false
   },
   "source": [
    "#### **예제 5 : 매개변수와 인수**"
   ]
  },
  {
   "cell_type": "code",
   "execution_count": null,
   "id": "a77901d1-3ddc-4304-9b8c-75134f9f5b34",
   "metadata": {
    "tags": [
     "jce.problems.221.7단원-예제2"
    ]
   },
   "outputs": [],
   "source": [
    "# 예제 5 : 매개변수와 인수\n",
    "\n",
    "def calculation(x):\n",
    "    y = 7*x +3\n",
    "    return y  # 결과값 y를 반환합니다. \n",
    "\n",
    "n = calculation(7)  # 변수 n에 함수에서 반환된 y값이 저장됩니다. \n",
    "print(\"계산한 값은? \"+ str(y))"
   ]
  },
  {
   "cell_type": "markdown",
   "id": "da425784-790a-4bd8-9bc9-54f36e6fe2d9",
   "metadata": {
    "deletable": false,
    "editable": false
   },
   "source": [
    "#### 예제 5 해설\n",
    "> `calculation`이라는 함수는 전달 받은 `x`값에 7을 곱하고 3을 더한 결과값인 `y`를 반환해주는 함수입니다.   \n",
    "> `n`은 함수로부터 `y`값을 반환받아  52가 됩니다. \n",
    ">\n",
    "> 함수를 호출하면서 함수에 넘겨주는 값을 `인수`라고 합니다. 위 코드에서는 7이 인수가 되겠죠.  \n",
    "> `인수`를 전달 받는 x는 `매개 변수(parameter)`라고 부릅니다.  \n",
    "> `y`와 같이 최종적으로 반환된 값을 `리턴 값`, `반환 값`이라고 부릅니다.   \n"
   ]
  },
  {
   "cell_type": "markdown",
   "id": "40a05d7a-c710-4b1d-bcda-40e376bfd542",
   "metadata": {
    "deletable": false,
    "editable": false
   },
   "source": [
    "#### **예제 6 : 매개변수와 반환값**"
   ]
  },
  {
   "cell_type": "code",
   "execution_count": null,
   "id": "a23db817-aae0-4fb2-867a-cff96e39a71c",
   "metadata": {
    "tags": [
     "jce.problems.221.7단원-예제3"
    ]
   },
   "outputs": [],
   "source": [
    "## 예제 6 : 매개변수와 반환값\n",
    "\n",
    "def product(a,b):\n",
    "    return a*b\n",
    "\n",
    "print(product(3,5))"
   ]
  },
  {
   "cell_type": "markdown",
   "id": "44ad3933-4d74-4ef6-8adc-a96cbcc252c5",
   "metadata": {
    "deletable": false,
    "editable": false,
    "tags": []
   },
   "source": [
    "### **💯 연습문제를 풀어봅시다**\n",
    "1. <a class=\"jcecodle-mk jcecodle-mk__problem-chip\" data-problem-id=\"Q0A6ykpTPKE\" href='#jce-judge/open/Q0A6ykpTPKE' target='_self'><span>이상한 기호 여러번 출력하기_빈칸</span></a>\n",
    "2. <a class=\"jcecodle-mk jcecodle-mk__problem-chip\" data-problem-id=\"ZJMt1p8lTUA\" href='#jce-judge/open/ZJMt1p8lTUA' target='_self'><span>이상한 기호 여러번 출력하기</span></a>\n",
    "\n",
    "3. <a class=\"jcecodle-mk jcecodle-mk__problem-chip\" data-problem-id=\"c6_hKp8vzng\" href='#jce-judge/open/c6_hKp8vzng' target='_self'><span>몫 계산(함수)_빈칸</span></a>\n",
    "4. <a class=\"jcecodle-mk jcecodle-mk__problem-chip\" data-problem-id=\"tlnrFphOU9E\" href='#jce-judge/open/tlnrFphOU9E' target='_self'><span>몫 계산(함수)</span></a>\n",
    "\n",
    "4. <a class=\"jcecodle-mk jcecodle-mk__problem-chip\" data-problem-id=\"PeF1qTevri8\" href='#jce-judge/open/PeF1qTevri8' target='_self'><span>합과 평균(함수)_빈칸</span></a>\n",
    "5. <a class=\"jcecodle-mk jcecodle-mk__problem-chip\" data-problem-id=\"Y0ufNXFAu8k\" href='#jce-judge/open/Y0ufNXFAu8k' target='_self'><span>합과 평균(함수)</span></a>"
   ]
  }
 ],
 "metadata": {
  "kernelspec": {
   "display_name": "Python 3 (ipykernel)",
   "language": "python",
   "name": "python3"
  },
  "language_info": {
   "codemirror_mode": {
    "name": "ipython",
    "version": 3
   },
   "file_extension": ".py",
   "mimetype": "text/x-python",
   "name": "python",
   "nbconvert_exporter": "python",
   "pygments_lexer": "ipython3",
   "version": "3.10.13"
  },
  "read_only": true
 },
 "nbformat": 4,
 "nbformat_minor": 5
}
